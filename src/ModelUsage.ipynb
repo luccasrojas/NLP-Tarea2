{
 "cells": [
  {
   "cell_type": "markdown",
   "metadata": {},
   "source": [
    "# Punto 3 Recuperación ranqueada y vectorización de documentos (RRDV)\n",
    "## Integrantes\n",
    "* Juan Esteban Arboleda\n",
    "* Luccas Rojas"
   ]
  },
  {
   "cell_type": "markdown",
   "metadata": {},
   "source": [
    "## Calculo de la perplejidad de cada modelo"
   ]
  },
  {
   "cell_type": "code",
   "execution_count": null,
   "metadata": {},
   "outputs": [],
   "source": [
    "import math\n",
    "from nltk.tokenize import WhitespaceTokenizer\n",
    "\n",
    "PATH_NEWS_UNIGRAM=\"../data/20N_l.rojasb_j.arboleda_unigrams.txt\"\n",
    "PATH_BAC_UNIGRAM=\"../data/BAC_l.rojasb_j.arboleda_unigrams.txt\"\n",
    "PATH_NEWS_BIGRAM=\"../data/20N_l.rojasb_j.arboleda_bigrams.txt\"\n",
    "PATH_BAC_BIGRAM=\"../data/BAC_l.rojasb_j.arboleda_bigrams.txt\"\n",
    "PATH_NEWS_TRIGRAM=\"../data/20N_l.rojasb_j.arboleda_trigrams.txt\"\n",
    "PATH_BAC_TRIGRAM=\"../data/BAC_l.rojasb_j.arboleda_trigrams.txt\"\n",
    "\n",
    "PATH_BAC_TEST = \"../data/BAC_l.rojasb_j.arboleda_test.txt\" \n",
    "PATH_NEWS_TEST = \"../data/20N_l.rojasb_j.arboleda_test.txt\"  \n",
    "\n",
    "tokenizer = WhitespaceTokenizer()"
   ]
  },
  {
   "cell_type": "code",
   "execution_count": null,
   "metadata": {},
   "outputs": [],
   "source": [
    "def load_test(path):\n",
    "    \"\"\"\n",
    "    Load test data from a file.\n",
    "    Params\n",
    "    ------\n",
    "    path: str\n",
    "        Path to the file.\n",
    "    Returns\n",
    "    -------\n",
    "    test: list\n",
    "        List of strings.\n",
    "    \"\"\"\n",
    "    test = []\n",
    "    with open(path, 'r') as f:\n",
    "        for line in f:\n",
    "            test.append(line.strip())\n",
    "    return test\n",
    "bac_test = load_test(PATH_BAC_TEST)\n",
    "news_test = load_test(PATH_NEWS_TEST)"
   ]
  },
  {
   "cell_type": "code",
   "execution_count": null,
   "metadata": {},
   "outputs": [],
   "source": [
    "def load_model(path:str)->dict:\n",
    "    \"\"\"\n",
    "    Load a model from a file.\n",
    "    Params\n",
    "    ------\n",
    "    path: str\n",
    "        Path to the file.\n",
    "    Returns\n",
    "    -------\n",
    "    model: dict\n",
    "        Dictionary with the model.\n",
    "    \"\"\"\n",
    "    model = {}\n",
    "    with open(path, 'r') as f:\n",
    "        for line in f:\n",
    "            line = line.strip().split('\\t')\n",
    "            model[line[0]] = int(line[1])\n",
    "    return model"
   ]
  },
  {
   "cell_type": "code",
   "execution_count": null,
   "metadata": {},
   "outputs": [],
   "source": [
    "def calculate_unigram_perplexity(model, test_data)->float:\n",
    "    \"\"\"    \n",
    "    Calculate the perplexity of a unigram model.\n",
    "    Params\n",
    "    ------\n",
    "    model: dict\n",
    "        Dictionary with the model.\n",
    "    test_data: list\n",
    "        List of strings.\n",
    "    Returns\n",
    "    -------\n",
    "    perplexity: float\n",
    "        Perplexity of the model.\n",
    "    \"\"\"\n",
    "    test_size = len(test_data)\n",
    "    log_sum = 0\n",
    "    for sentence in test_data:\n",
    "        words = tokenizer.tokenize(sentence)\n",
    "        for word in words:\n",
    "            if word in model:\n",
    "                probability = model[word]\n",
    "            else:\n",
    "                probability = model[\"<UNK>\"]\n",
    "            log_sum += math.log2(probability)\n",
    "    return -1*(log_sum / test_size)"
   ]
  },
  {
   "cell_type": "code",
   "execution_count": null,
   "metadata": {},
   "outputs": [],
   "source": [
    "def calculate_bigram_perplexity(model, test_data)->float:\n",
    "    \"\"\"\n",
    "    Calculate the perplexity of a bigram model.\n",
    "    Params\n",
    "    ------\n",
    "    model: dict\n",
    "        Dictionary with the model.\n",
    "    test_data: list\n",
    "        List of strings.\n",
    "    Returns\n",
    "    -------\n",
    "    perplexity: float  \n",
    "        Perplexity of the model.\n",
    "    \"\"\"\n",
    "    test_size = len(test_data)\n",
    "    log_sum = 0\n",
    "    for sentence in test_data:\n",
    "        words = tokenizer.tokenize(sentence)\n",
    "        for word in words:\n",
    "            if word in model:\n",
    "                probability = model[word]\n",
    "            else:\n",
    "                probability = model[\"<UNK>\"]\n",
    "            log_sum += math.log2(probability)\n",
    "    return -1*(log_sum / test_size)"
   ]
  }
 ],
 "metadata": {
  "kernelspec": {
   "display_name": "Python 3",
   "language": "python",
   "name": "python3"
  },
  "language_info": {
   "codemirror_mode": {
    "name": "ipython",
    "version": 3
   },
   "file_extension": ".py",
   "mimetype": "text/x-python",
   "name": "python",
   "nbconvert_exporter": "python",
   "pygments_lexer": "ipython3",
   "version": "3.11.1"
  },
  "orig_nbformat": 4
 },
 "nbformat": 4,
 "nbformat_minor": 2
}
